{
 "cells": [
  {
   "cell_type": "markdown",
   "metadata": {
    "id": "W-s9aYf5Z_ts"
   },
   "source": [
    "# Assignment 2: K-means"
   ]
  },
  {
   "cell_type": "markdown",
   "metadata": {
    "id": "iOoLLpAWbYtC"
   },
   "source": [
    "## Toy dataset visualization"
   ]
  },
  {
   "cell_type": "code",
   "execution_count": 1,
   "metadata": {},
   "outputs": [],
   "source": [
    "import matplotlib.pyplot as plt\n",
    "import numpy as np\n",
    "import pandas as pd\n",
    "from matplotlib import style\n",
    "from math import sqrt"
   ]
  },
  {
   "cell_type": "code",
   "execution_count": 2,
   "metadata": {
    "id": "gCbnv2IyTzJt"
   },
   "outputs": [
    {
     "data": {
      "image/png": "[encoded data removed]",
      "text/plain": [
       "<Figure size 432x288 with 1 Axes>"
      ]
     },
     "metadata": {
      "needs_background": "light"
     },
     "output_type": "display_data"
    }
   ],
   "source": [
    "X = np.array([[2, 4],\n",
    "              [1.7, 2.8],\n",
    "              [7, 8],\n",
    "              [8.6, 8],\n",
    "              [3.4, 1.5],\n",
    "              [9,11]])\n",
    "\n",
    "plt.scatter(X[:,0], X[:,1], s=150)\n",
    "plt.show()"
   ]
  },
  {
   "cell_type": "markdown",
   "metadata": {
    "id": "rVKEIe7pbhPd"
   },
   "source": [
    "## K-means in 2-d"
   ]
  },
  {
   "cell_type": "code",
   "execution_count": 3,
   "metadata": {},
   "outputs": [],
   "source": [
    "def initialize_centroids(k, x):\n",
    "\n",
    "    n_dims = x.shape[1]\n",
    "    centroid_min = x.min().min()\n",
    "    centroid_max = x.max().max()\n",
    "    centroids = []\n",
    "\n",
    "    for centroid in range(k):\n",
    "        centroid = np.random.uniform(centroid_min, centroid_max, n_dims)\n",
    "        centroids.append(centroid)\n",
    "\n",
    "    centroids = np.array(centroids)\n",
    "\n",
    "    return centroids\n",
    "\n",
    "centroids = initialize_centroids(2, X)"
   ]
  },
  {
   "cell_type": "code",
   "execution_count": 4,
   "metadata": {
    "id": "H2WUasmbaTr-"
   },
   "outputs": [
    {
     "name": "stdout",
     "output_type": "stream",
     "text": [
      "Initialized centroids: [[8.26391108 4.44648067]\n",
      " [2.50407492 3.15804999]]\n",
      "Iteration: 0, Centroids: [array([8.2, 9. ]), array([2.36666667, 2.76666667])]\n",
      "Iteration: 1, Centroids: [array([8.2, 9. ]), array([2.36666667, 2.76666667])]\n",
      "Iteration: 2, Centroids: [array([8.2, 9. ]), array([2.36666667, 2.76666667])]\n",
      "Iteration: 3, Centroids: [array([8.2, 9. ]), array([2.36666667, 2.76666667])]\n",
      "Iteration: 4, Centroids: [array([8.2, 9. ]), array([2.36666667, 2.76666667])]\n",
      "Iteration: 5, Centroids: [array([8.2, 9. ]), array([2.36666667, 2.76666667])]\n",
      "Iteration: 6, Centroids: [array([8.2, 9. ]), array([2.36666667, 2.76666667])]\n",
      "Iteration: 7, Centroids: [array([8.2, 9. ]), array([2.36666667, 2.76666667])]\n",
      "Iteration: 8, Centroids: [array([8.2, 9. ]), array([2.36666667, 2.76666667])]\n",
      "Iteration: 9, Centroids: [array([8.2, 9. ]), array([2.36666667, 2.76666667])]\n"
     ]
    }
   ],
   "source": [
    "\n",
    "\n",
    "def euclidean_distance(a, b):\n",
    "    # Euclidean distance (l2 norm)\n",
    "    return sqrt(sum( (a - b)**2))\n",
    "\n",
    "# Step 1\n",
    "def closestCentroid(x, centroids):\n",
    "    assignments = []\n",
    "    for i in x:\n",
    "        # distance between one data point and centroids\n",
    "        distance=[]\n",
    "        for j in centroids:\n",
    "            distance.append(euclidean_distance(i, j))\n",
    "            # assign each data point to the cluster with closest centroid\n",
    "        assignments.append(np.argmin(distance))\n",
    "    return np.array(assignments)\n",
    "\n",
    "\n",
    "# Step 2\n",
    "def updateCentroid(x, clusters, K):\n",
    "    new_centroids = []\n",
    "    for c in range(K):\n",
    "        # Update the cluster centroid with the average of all points \n",
    "        # in this cluster\n",
    "        cluster_mean = x[clusters == c].mean(axis=0)\n",
    "        new_centroids.append(cluster_mean)\n",
    "    return new_centroids\n",
    "\n",
    "\n",
    "# 2-d kmeans\n",
    "def kmeans(x, K):\n",
    "    # initialize the centroids of 2 clusters in the range of [0,20)\n",
    "    centroids = initialize_centroids(2, X)\n",
    "    print('Initialized centroids: {}'.format(centroids))\n",
    "    for i in range(10):\n",
    "        clusters = closestCentroid(x, centroids)\n",
    "        centroids = updateCentroid(x, clusters, K)\n",
    "        print('Iteration: {}, Centroids: {}'.format(i, centroids))\n",
    "    return centroids,clusters\n",
    "K = 2\n",
    "\n",
    "centroids,clusters = kmeans(X, K)\n"
   ]
  },
  {
   "cell_type": "code",
   "execution_count": 5,
   "metadata": {},
   "outputs": [],
   "source": [
    "centroids=np.array(centroids)\n",
    "clusters=np.array(clusters)"
   ]
  },
  {
   "cell_type": "code",
   "execution_count": 6,
   "metadata": {},
   "outputs": [
    {
     "name": "stdout",
     "output_type": "stream",
     "text": [
      "[1 1 0 0 1 0]\n"
     ]
    }
   ],
   "source": [
    "print(clusters)"
   ]
  },
  {
   "cell_type": "code",
   "execution_count": 7,
   "metadata": {},
   "outputs": [
    {
     "data": {
      "image/png": "[encoded data removed]",
      "text/plain": [
       "<Figure size 432x288 with 1 Axes>"
      ]
     },
     "metadata": {
      "needs_background": "light"
     },
     "output_type": "display_data"
    }
   ],
   "source": [
    "clo=[\"red\",\"blue\"]\n",
    "for i in range(len(clusters)) : \n",
    "    for j in range(K):\n",
    "        if j==clusters[i]:\n",
    "            plt.scatter(X[i,0], X[i,1],color=clo[j], s=150)\n",
    "            plt.scatter(centroids[j,0], centroids[j,1],color=clo[j], s=300)\n",
    "plt.show() "
   ]
  },
  {
   "cell_type": "code",
   "execution_count": null,
   "metadata": {},
   "outputs": [],
   "source": []
  }
 ],
 "metadata": {
  "colab": {
   "collapsed_sections": [],
   "name": "Lecture23.ipynb",
   "provenance": [],
   "toc_visible": true
  },
  "kernelspec": {
   "display_name": "Python 3",
   "language": "python",
   "name": "python3"
  },
  "language_info": {
   "codemirror_mode": {
    "name": "ipython",
    "version": 3
   },
   "file_extension": ".py",
   "mimetype": "text/x-python",
   "name": "python",
   "nbconvert_exporter": "python",
   "pygments_lexer": "ipython3",
   "version": "3.8.8"
  }
 },
 "nbformat": 4,
 "nbformat_minor": 1
}
